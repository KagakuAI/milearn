{
 "cells": [
  {
   "cell_type": "code",
   "execution_count": 1,
   "id": "3b550773-abb2-4022-9d56-09853ee01db8",
   "metadata": {},
   "outputs": [],
   "source": [
    "import logging\n",
    "import warnings\n",
    "warnings.filterwarnings(\"ignore\")\n",
    "logging.getLogger(\"pytorch_lightning\").setLevel(logging.ERROR)\n",
    "logging.getLogger(\"lightning\").setLevel(logging.ERROR)\n",
    "\n",
    "import time\n",
    "import torch\n",
    "import random\n",
    "\n",
    "import numpy as np\n",
    "import pandas as pd\n",
    "\n",
    "import matplotlib.pyplot as plt\n",
    "\n",
    "# MNIST dataset creation\n",
    "from milearn.data.mnist import load_mnist, create_bags_or, create_bags_and, create_bags_xor, create_bags_reg\n",
    "\n",
    "# Preprocessing\n",
    "from milearn.preprocessing import BagMinMaxScaler\n",
    "\n",
    "# Network hparams\n",
    "from milearn.network.module.hopt import DEFAULT_PARAM_GRID\n",
    "\n",
    "# MIL wrappers\n",
    "from milearn.network.regressor import BagWrapperMLPNetworkRegressor, InstanceWrapperMLPNetworkRegressor\n",
    "from milearn.network.classifier import BagWrapperMLPNetworkClassifier, InstanceWrapperMLPNetworkClassifier\n",
    "\n",
    "# MIL networks\n",
    "from milearn.network.regressor import (InstanceNetworkRegressor,\n",
    "                                       BagNetworkRegressor,\n",
    "                                       AdditiveAttentionNetworkRegressor,\n",
    "                                       SelfAttentionNetworkRegressor,\n",
    "                                       HopfieldAttentionNetworkRegressor,\n",
    "                                       DynamicPoolingNetworkRegressor)\n",
    "\n",
    "from milearn.network.classifier import (InstanceNetworkClassifier,\n",
    "                                        BagNetworkClassifier,\n",
    "                                        AdditiveAttentionNetworkClassifier,\n",
    "                                        SelfAttentionNetworkClassifier,\n",
    "                                        HopfieldAttentionNetworkClassifier,\n",
    "                                        DynamicPoolingNetworkClassifier)\n",
    "\n",
    "# Utils\n",
    "from sklearn.metrics import r2_score, accuracy_score\n",
    "from sklearn.model_selection import train_test_split\n",
    "\n",
    "# Prediction visualisation\n",
    "from milearn.data.mnist import visualize_bag_with_weights"
   ]
  },
  {
   "cell_type": "code",
   "execution_count": 2,
   "id": "7de1c492-4905-49c7-8c71-dc4a8229fa85",
   "metadata": {},
   "outputs": [],
   "source": [
    "def accuracy_metric(y_true, y_pred, task=None):\n",
    "    if task == \"classification\":\n",
    "        return accuracy_score(y_true, y_pred)\n",
    "    elif task == \"regression\":\n",
    "        return r2_score(y_true, y_pred)"
   ]
  },
  {
   "cell_type": "code",
   "execution_count": 3,
   "id": "f6d7d326-d51d-4859-92a2-aadd47360a58",
   "metadata": {},
   "outputs": [],
   "source": [
    "TASK = \"regression\"\n",
    "# TASK = \"classification\""
   ]
  },
  {
   "cell_type": "code",
   "execution_count": 4,
   "id": "2c418abc-a7eb-46f5-8c28-4e51f675ce36",
   "metadata": {},
   "outputs": [],
   "source": [
    "bag_size = 10\n",
    "num_bags = 10000\n",
    "\n",
    "data, targets = load_mnist()\n",
    "\n",
    "if TASK == \"classification\":\n",
    "    bags, labels, key = create_bags_or(data, targets, bag_size=bag_size, num_bags=num_bags, \n",
    "                                       key_digit=3, key_instances_per_bag=1, random_state=42)\n",
    "elif TASK == \"regression\":\n",
    "    bags, labels, key = create_bags_reg(data, targets, bag_size=bag_size, num_bags=num_bags, \n",
    "                                        bag_agg=\"mean\", random_state=42)"
   ]
  },
  {
   "cell_type": "code",
   "execution_count": 5,
   "id": "5228c9f8-b02f-4a79-8e3c-d68dc392eb1a",
   "metadata": {},
   "outputs": [],
   "source": [
    "regressor_list = [\n",
    "\n",
    "        # wrapper mil networks\n",
    "        (\"MeanBagWrapperMLPNetworkRegressor\", BagWrapperMLPNetworkRegressor(pool=\"mean\")),\n",
    "        (\"MeanInstanceWrapperMLPNetworkRegressor\", InstanceWrapperMLPNetworkRegressor(pool=\"mean\")),\n",
    "    \n",
    "        # classic mil networks\n",
    "        (\"MeanBagNetworkRegressor\", BagNetworkRegressor(pool=\"mean\")),\n",
    "        (\"MeanInstanceNetworkRegressor\", InstanceNetworkRegressor(pool=\"mean\")),\n",
    "\n",
    "        # attention mil networks\n",
    "        (\"AdditiveAttentionNetworkRegressor\", AdditiveAttentionNetworkRegressor()),\n",
    "        (\"SelfAttentionNetworkRegressor\", SelfAttentionNetworkRegressor()),\n",
    "        (\"HopfieldAttentionNetworkRegressor\", HopfieldAttentionNetworkRegressor()),\n",
    "\n",
    "        # other mil networks\n",
    "        (\"DynamicPoolingNetworkRegressor\", DynamicPoolingNetworkRegressor()),\n",
    "    ]\n",
    "\n",
    "classifier_list = [\n",
    "\n",
    "        # wrapper mil networks\n",
    "        (\"MeanBagWrapperMLPNetworkClassifier\", BagWrapperMLPNetworkClassifier(pool=\"mean\")),\n",
    "        # (\"MeanInstanceWrapperMLPNetworkClassifier\", InstanceWrapperMLPNetworkClassifier(pool=\"mean\")),\n",
    "    \n",
    "        # classic mil networks\n",
    "        (\"MeanBagNetworkRegressor\", BagNetworkClassifier(pool=\"mean\")),\n",
    "        (\"MeanInstanceNetworkRegressor\", InstanceNetworkClassifier(pool=\"mean\")),\n",
    "\n",
    "        # attention mil networks\n",
    "        (\"AdditiveAttentionNetworkClassifier\", AdditiveAttentionNetworkClassifier()),\n",
    "        (\"SelfAttentionNetworkClassifier\", SelfAttentionNetworkClassifier()),\n",
    "        (\"HopfieldAttentionNetworkClassifier\", HopfieldAttentionNetworkClassifier()),\n",
    "\n",
    "        # other mil networks\n",
    "        (\"DynamicPoolingNetworkClassifier\", DynamicPoolingNetworkClassifier()),\n",
    "    ]"
   ]
  },
  {
   "cell_type": "code",
   "execution_count": 6,
   "id": "1de2d29b-ff36-42f4-8826-928cb011ceb8",
   "metadata": {},
   "outputs": [],
   "source": [
    "# train/test split\n",
    "x_train, x_test, y_train, y_test, key_train, key_test = train_test_split(bags, labels, key, random_state=42)\n",
    "\n",
    "# features scaling\n",
    "scaler = BagMinMaxScaler()\n",
    "scaler.fit(x_train)\n",
    "x_train_scaled = scaler.transform(x_train)\n",
    "x_test_scaled = scaler.transform(x_test)"
   ]
  },
  {
   "cell_type": "code",
   "execution_count": 7,
   "id": "eec4fcc6-1995-495d-b44f-dca059766662",
   "metadata": {},
   "outputs": [],
   "source": [
    "DEFAULT_PARAM_GRID[\"hidden_layer_sizes\"] = (2048, 1024, 512, 256, 128, 64)"
   ]
  },
  {
   "cell_type": "code",
   "execution_count": null,
   "id": "c3baa554-8f58-438f-b856-2de0dd05243b",
   "metadata": {},
   "outputs": [
    {
     "name": "stdout",
     "output_type": "stream",
     "text": [
      "[1/8] Running MeanBagWrapperMLPNetworkRegressor...\n"
     ]
    }
   ],
   "source": [
    "if TASK == \"regression\":\n",
    "    method_list = regressor_list\n",
    "elif TASK == \"classification\":\n",
    "    method_list = classifier_list\n",
    "\n",
    "res_df = pd.DataFrame()\n",
    "n_methods = len(method_list)\n",
    "\n",
    "for i, (method_name, model) in enumerate(method_list, start=1):\n",
    "    print(f\"[{i}/{n_methods}] Running {method_name}...\")\n",
    "    start_time = time.time()\n",
    "\n",
    "    model.hopt(x_train_scaled, y_train, param_grid=DEFAULT_PARAM_GRID, verbose=False)\n",
    "    model.fit(x_train_scaled, y_train)\n",
    "\n",
    "    if TASK == \"regression\":\n",
    "        y_pred = model.predict(x_test_scaled)\n",
    "    elif TASK == \"classification\":\n",
    "        y_prob = model.predict(x_test_scaled)\n",
    "        y_pred = np.where(y_prob > 0.5, 1, 0)\n",
    "\n",
    "    acc = accuracy_metric(y_test, y_pred, task=TASK)\n",
    "    res_df.loc[method_name, \"Accuracy\"] = acc\n",
    "\n",
    "    elapsed_min = (time.time() - start_time) / 60\n",
    "    print(f\"    → Done. Accuracy = {acc:.2f}, Time: {elapsed_min:.2f} min\")"
   ]
  },
  {
   "cell_type": "code",
   "execution_count": null,
   "id": "fecf3e5c-7503-415d-92a7-2fabff4d0d78",
   "metadata": {},
   "outputs": [],
   "source": [
    "# [1/8] Running MeanBagWrapperMLPNetworkRegressor...\n",
    "#     → Done. Accuracy = 0.5986, Time: 0.28 min\n",
    "# [2/8] Running MeanInstanceWrapperMLPNetworkRegressor...\n",
    "#     → Done. Accuracy = 0.1482, Time: 1.55 min\n",
    "# [3/8] Running MeanBagNetworkRegressor...\n",
    "#     → Done. Accuracy = 0.9132, Time: 1.15 min\n",
    "# [4/8] Running MeanInstanceNetworkRegressor...\n",
    "#     → Done. Accuracy = -14.4255, Time: 0.24 min\n",
    "# [5/8] Running AdditiveAttentionNetworkRegressor...\n",
    "#     → Done. Accuracy = 0.8993, Time: 0.88 min\n",
    "# [6/8] Running SelfAttentionNetworkRegressor...\n",
    "#     → Done. Accuracy = 0.9751, Time: 15.51 min\n",
    "# [7/8] Running HopfieldAttentionNetworkRegressor...\n",
    "#     → Done. Accuracy = 0.8466, Time: 0.64 min\n",
    "# [8/8] Running DynamicPoolingNetworkRegressor...\n",
    "#     → Done. Accuracy = 0.7619, Time: 0.61 min"
   ]
  },
  {
   "cell_type": "code",
   "execution_count": null,
   "id": "fa33a945-7c91-4e98-805d-dac71c3de844",
   "metadata": {},
   "outputs": [],
   "source": [
    "res_df.sort_values(by=\"ACC\", ascending=False)"
   ]
  },
  {
   "cell_type": "code",
   "execution_count": null,
   "id": "b85c8944-c0fa-41c5-acab-d4abb4ffbb8b",
   "metadata": {},
   "outputs": [],
   "source": []
  },
  {
   "cell_type": "code",
   "execution_count": null,
   "id": "7c34e74d-8f69-48ba-9d8e-2baaf584e0f6",
   "metadata": {},
   "outputs": [],
   "source": []
  }
 ],
 "metadata": {
  "kernelspec": {
   "display_name": "milearn",
   "language": "python",
   "name": "milearn"
  },
  "language_info": {
   "codemirror_mode": {
    "name": "ipython",
    "version": 3
   },
   "file_extension": ".py",
   "mimetype": "text/x-python",
   "name": "python",
   "nbconvert_exporter": "python",
   "pygments_lexer": "ipython3",
   "version": "3.9.23"
  }
 },
 "nbformat": 4,
 "nbformat_minor": 5
}
