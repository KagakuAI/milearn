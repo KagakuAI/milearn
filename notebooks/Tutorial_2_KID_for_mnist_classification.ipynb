{
 "cells": [
  {
   "cell_type": "markdown",
   "id": "0cfbb6da-ba1a-453b-b72e-03d7afa85210",
   "metadata": {},
   "source": [
    "### Introduction\n",
    "\n",
    "Each bag contains a fixed number of MNIST digits (e.g., 10). Each digit belongs to a class (0–9), and the bag label is determined based on the digits using one of the specific logical rules.\n",
    "\n",
    "**Instance:** One MNIST digit image.\n",
    "\n",
    "**Bag**: A collection of digits (e.g., a list of 10 MNIST digits).\n",
    "\n",
    "**Label:** Positive, if, for example, a bag contains some key digit (e.g., 3), otherwise negative.\n",
    "\n",
    "**Key instance:** A key digit image."
   ]
  },
  {
   "cell_type": "markdown",
   "id": "1e5aa08e-d15d-4423-b14a-ef679fada270",
   "metadata": {},
   "source": [
    "### Logic-Based Labeling Rules\n",
    "\n",
    "🟢 **OR Setting: Easy** \n",
    "\n",
    "The bag is positive if at least one instance belongs to a target class (e.g., digit 3).\n",
    "\n",
    "* Bag Label = 1 if any digit in the bag is a 3\n",
    "\n",
    "* Key instance = any one of the 3s (all of them are “valid” keys)\n",
    "\n",
    "**Intuition:** Easy, similar to classic MIL assumption.\n",
    "\n",
    "**Example:**\n",
    "Bag = [1, 5, 7, 3, 0] → Label = 1 / Key instance: 7\n",
    "  \n",
    "🔴 **AND Setting: Medium**\n",
    "\n",
    "The bag is positive only if all instances satisfy a condition (e.g., 3 and 7 should be presented at the same time).  \n",
    "* Bag Label = 1 if 3 and 7 are in the bug at the same time.  \n",
    "* Key instance = 3 and 7; if only one is presented, label = 0.\n",
    "\n",
    "**Intuition:** Harder than OR, no single key; the absence of a “bad” instance is important\n",
    "\n",
    "**Example:**  \n",
    "Bag = [0, 3, 4, 6, 7] → Label = 1 / Key instances: 3 and 7  \n",
    "Bag = [0, 3, 3, 6, 8] → Label = 0\n",
    "\n",
    "🟡 **XOR Setting: Hard**\n",
    "\n",
    "The bag is positive if an odd number of target class instances are present.\n",
    "\n",
    "* Bag Label = 1 if there's 3 but not 7.  \n",
    "* Key instance = The exact configuration matters — it’s not about presence alone, but count.\n",
    "\n",
    "**Intuition:** Very hard — label depends on interactions between instances\n",
    "\n",
    "**Example:**  \n",
    "Bag = [1, 3, 7, 2] → Label = 0 (3 and 7 at the same time)  \n",
    "Bag = [1, 3, 6, 2] → Label = 1 (only 3 but not 7) / Key instances: 3  \n",
    "Bag = [1, 5, 7, 2] → Label = 1 (only 7 but not 3) / Key instances: 7    "
   ]
  },
  {
   "cell_type": "code",
   "execution_count": 1,
   "id": "686dfe9f-1750-402e-8261-e894f3246376",
   "metadata": {},
   "outputs": [],
   "source": [
    "import logging\n",
    "import warnings\n",
    "warnings.filterwarnings(\"ignore\")\n",
    "logging.getLogger(\"pytorch_lightning\").setLevel(logging.ERROR)\n",
    "logging.getLogger(\"lightning\").setLevel(logging.ERROR)\n",
    "\n",
    "import time\n",
    "import torch\n",
    "import random\n",
    "\n",
    "import numpy as np\n",
    "import pandas as pd\n",
    "\n",
    "import matplotlib.pyplot as plt\n",
    "\n",
    "# MNIST dataset creation\n",
    "from milearn.data.mnist import load_mnist, create_bags_or, create_bags_and, create_bags_xor, create_bags_reg\n",
    "\n",
    "# Preprocessing\n",
    "from milearn.preprocessing import BagMinMaxScaler\n",
    "\n",
    "# Network hparams\n",
    "from milearn.network.module.hopt import DEFAULT_PARAM_GRID\n",
    "\n",
    "# MIL wrappers\n",
    "from milearn.network.regressor import BagWrapperMLPNetworkRegressor, InstanceWrapperMLPNetworkRegressor\n",
    "from milearn.network.classifier import BagWrapperMLPNetworkClassifier, InstanceWrapperMLPNetworkClassifier\n",
    "\n",
    "# MIL networks\n",
    "from milearn.network.classifier import (InstanceNetworkClassifier,\n",
    "                                        BagNetworkClassifier,\n",
    "                                        AdditiveAttentionNetworkClassifier,\n",
    "                                        SelfAttentionNetworkClassifier,\n",
    "                                        HopfieldAttentionNetworkClassifier,\n",
    "                                        DynamicPoolingNetworkClassifier)\n",
    "\n",
    "# Utils\n",
    "from sklearn.metrics import r2_score, accuracy_score\n",
    "from sklearn.model_selection import train_test_split\n",
    "\n",
    "# Prediction visualisation\n",
    "from milearn.data.mnist import visualize_bag_with_weights"
   ]
  },
  {
   "cell_type": "markdown",
   "id": "9d3cbe1b-1c1a-450e-a959-a3d8e28ae502",
   "metadata": {},
   "source": [
    "### Key Instance Detection Accuracy Functions\n",
    "\n",
    "These functions evaluate how well a model's predicted attention weights or importance scores match the true key instance indices in positive bags, according to the logic used during bag labeling.\n",
    "\n",
    "Each function returns a fraction of correctly identified positive bags, based on whether at least one (OR), all (AND), or exactly one (XOR) of the true key instances are recovered among the top-k predicted instances."
   ]
  },
  {
   "cell_type": "code",
   "execution_count": 2,
   "id": "690b4889-8f67-4edf-8ea6-a04038a10e1c",
   "metadata": {},
   "outputs": [],
   "source": [
    "def kid_accuracy_or(key_indices, predicted_weights, bag_labels, top_k=1):\n",
    "    \n",
    "    correct, total = 0, 0\n",
    "    for weights, keys, label in zip(predicted_weights, key_indices, bag_labels):\n",
    "        if label == 1:\n",
    "            pred_top_k = np.argsort(weights)[-top_k:]\n",
    "            if any(idx in pred_top_k for idx in keys):\n",
    "                correct += 1\n",
    "            total += 1\n",
    "\n",
    "    return correct / total if total > 0 else 0.0\n",
    "\n",
    "def kid_accuracy_and(key_indices, predicted_weights, bag_labels, top_k=2):\n",
    "    \n",
    "    correct, total = 0, 0\n",
    "    for weights, keys, label in zip(predicted_weights, key_indices, bag_labels):\n",
    "        if label == 1:\n",
    "            pred_top_k = set(np.argsort(weights)[-top_k:])\n",
    "            if all(k in pred_top_k for k in keys):\n",
    "                correct += 1\n",
    "            total += 1\n",
    "\n",
    "    return correct / total if total > 0 else 0.0\n",
    "\n",
    "def kid_accuracy_xor(key_indices, predicted_weights, bag_labels, top_k=1):\n",
    "    \n",
    "    correct, total = 0, 0\n",
    "    for weights, keys, label in zip(predicted_weights, key_indices, bag_labels):\n",
    "        if label == 1:\n",
    "            pred_top_k = np.argsort(weights)[-top_k:]\n",
    "            match_count = sum(idx in pred_top_k for idx in keys)\n",
    "            if match_count == 1:\n",
    "                correct += 1\n",
    "            total += 1\n",
    "\n",
    "    return correct / total if total > 0 else 0.0"
   ]
  },
  {
   "cell_type": "markdown",
   "id": "e3fa1b14-bcdf-44c8-8c1c-b3449ad23cd8",
   "metadata": {},
   "source": [
    "### 1. Create MNIST dataset"
   ]
  },
  {
   "cell_type": "code",
   "execution_count": 3,
   "id": "144ae61b-82a8-4110-b7a6-fcd337e7b048",
   "metadata": {},
   "outputs": [],
   "source": [
    "bag_size = 10\n",
    "num_bags = 10000\n",
    "setting_type = \"or\"\n",
    "\n",
    "data, targets = load_mnist()\n",
    "if setting_type == \"or\":\n",
    "    bags, labels, key = create_bags_or(data, targets, bag_size=bag_size, num_bags=num_bags, key_digit=3, key_instances_per_bag=1, random_state=42)\n",
    "    kid_accuracy = kid_accuracy_or\n",
    "elif setting_type == \"and\":\n",
    "    bags, labels, key = create_bags_and(data, targets,  bag_size=bag_size, num_bags=num_bags, key_digits=(3, 7), random_state=42)\n",
    "    kid_accuracy = kid_accuracy_and\n",
    "elif setting_type == \"xor\":\n",
    "    bags, labels, key = create_bags_xor(data, targets, bag_size=bag_size, num_bags=num_bags, key_digits=(3, 7), random_state=42)\n",
    "    kid_accuracy = kid_accuracy_xor"
   ]
  },
  {
   "cell_type": "markdown",
   "id": "5c4e3d86-e1a3-465a-8359-137842d01b4d",
   "metadata": {},
   "source": [
    "### 2. Build model"
   ]
  },
  {
   "cell_type": "code",
   "execution_count": 4,
   "id": "7a4d7855-2c26-40ed-acfe-aded4c27a0e9",
   "metadata": {},
   "outputs": [],
   "source": [
    "# train/test split\n",
    "x_train, x_test, y_train, y_test, key_train, key_test = train_test_split(bags, labels, key, random_state=42)\n",
    "\n",
    "# features scaling\n",
    "scaler = BagMinMaxScaler()\n",
    "scaler.fit(x_train)\n",
    "x_train_scaled = scaler.transform(x_train)\n",
    "x_test_scaled = scaler.transform(x_test)"
   ]
  },
  {
   "cell_type": "code",
   "execution_count": 5,
   "id": "9689703d-07db-46c5-9de8-645e1bc0604a",
   "metadata": {},
   "outputs": [
    {
     "name": "stdout",
     "output_type": "stream",
     "text": [
      "Epoch   1/1000 | train_loss=0.419 | val_loss=0.243\n",
      "Epoch   2/1000 | train_loss=0.183 | val_loss=0.174\n",
      "Epoch   3/1000 | train_loss=0.126 | val_loss=0.154\n",
      "Epoch   4/1000 | train_loss=0.094 | val_loss=0.158\n",
      "Epoch   5/1000 | train_loss=0.063 | val_loss=0.129\n",
      "Epoch   6/1000 | train_loss=0.045 | val_loss=0.139\n",
      "Epoch   7/1000 | train_loss=0.035 | val_loss=0.184\n",
      "Epoch   8/1000 | train_loss=0.030 | val_loss=0.141\n",
      "Epoch   9/1000 | train_loss=0.019 | val_loss=0.132\n",
      "Epoch  10/1000 | train_loss=0.021 | val_loss=0.150\n",
      "Epoch  11/1000 | train_loss=0.016 | val_loss=0.148\n",
      "Epoch  12/1000 | train_loss=0.019 | val_loss=0.131\n",
      "Epoch  13/1000 | train_loss=0.013 | val_loss=0.126\n",
      "Epoch  14/1000 | train_loss=0.006 | val_loss=0.185\n",
      "Epoch  15/1000 | train_loss=0.004 | val_loss=0.274\n",
      "Epoch  16/1000 | train_loss=0.005 | val_loss=0.254\n",
      "Epoch  17/1000 | train_loss=0.004 | val_loss=0.150\n",
      "Epoch  18/1000 | train_loss=0.012 | val_loss=0.205\n",
      "Epoch  19/1000 | train_loss=0.006 | val_loss=0.214\n",
      "Epoch  20/1000 | train_loss=0.003 | val_loss=0.145\n",
      "Epoch  21/1000 | train_loss=0.005 | val_loss=0.152\n",
      "Epoch  22/1000 | train_loss=0.002 | val_loss=0.194\n",
      "Epoch  23/1000 | train_loss=0.001 | val_loss=0.166\n"
     ]
    },
    {
     "data": {
      "text/plain": [
       "AdditiveAttentionNetworkClassifier(\n",
       "  (instance_transformer): Sequential(\n",
       "    (0): Linear(in_features=784, out_features=256, bias=True)\n",
       "    (1): GELU(approximate='none')\n",
       "    (2): Linear(in_features=256, out_features=128, bias=True)\n",
       "    (3): GELU(approximate='none')\n",
       "    (4): Linear(in_features=128, out_features=64, bias=True)\n",
       "    (5): GELU(approximate='none')\n",
       "  )\n",
       "  (bag_estimator): Linear(in_features=64, out_features=1, bias=True)\n",
       "  (attention): Sequential(\n",
       "    (0): Linear(in_features=64, out_features=64, bias=True)\n",
       "    (1): Tanh()\n",
       "    (2): Linear(in_features=64, out_features=1, bias=True)\n",
       "  )\n",
       ")"
      ]
     },
     "execution_count": 5,
     "metadata": {},
     "output_type": "execute_result"
    }
   ],
   "source": [
    "model = AdditiveAttentionNetworkClassifier(verbose=True)\n",
    "# model.hopt(x_train_scaled, y_train, param_grid=DEFAULT_PARAM_GRID, verbose=False)\n",
    "model.fit(x_train_scaled, y_train)"
   ]
  },
  {
   "cell_type": "code",
   "execution_count": 6,
   "id": "dab85812-a162-4a03-bf0f-68f81345bee3",
   "metadata": {},
   "outputs": [],
   "source": [
    "# predict labels\n",
    "y_prob = model.predict(x_test_scaled)\n",
    "y_pred = np.where(y_prob > 0.5, 1, 0)\n",
    "\n",
    "# predict instance weights\n",
    "w_pred = model.get_instance_weights(x_test_scaled)\n",
    "w_pred = [w.flatten() for w in w_pred]"
   ]
  },
  {
   "cell_type": "code",
   "execution_count": 7,
   "id": "b524128b-9565-479e-90ee-f68a4c11262d",
   "metadata": {},
   "outputs": [
    {
     "name": "stdout",
     "output_type": "stream",
     "text": [
      "Classification accuracy: 0.97\n",
      "KID accuracy: 0.98\n"
     ]
    }
   ],
   "source": [
    "print(f\"Classification accuracy: {accuracy_score(y_test, y_pred):.2f}\")\n",
    "print(f\"KID accuracy: {kid_accuracy(key_test, w_pred, y_test):.2f}\")"
   ]
  },
  {
   "cell_type": "code",
   "execution_count": 8,
   "id": "263a8bd2-4583-4d9f-8e98-57b201dc9b64",
   "metadata": {},
   "outputs": [],
   "source": [
    "# bags with correct positive class prediction (use these indexes for visualization)\n",
    "positive_bags = list(np.where((y_pred == 1) & (np.array(y_test) == 1))[0])"
   ]
  },
  {
   "cell_type": "code",
   "execution_count": 9,
   "id": "81d3ea63-aede-4ec4-b128-a94df0867693",
   "metadata": {},
   "outputs": [
    {
     "data": {
      "image/png": "[encoded data removed]",
      "text/plain": [
       "<Figure size 1250x500 with 10 Axes>"
      ]
     },
     "metadata": {},
     "output_type": "display_data"
    }
   ],
   "source": [
    "N = positive_bags[0]\n",
    "visualize_bag_with_weights(x_test[N], w_pred[N], \n",
    "                           title=f\"Bag {N}\\nPredicted label:{y_pred[N].item()}\\nTrue label: {y_test[N]}\")"
   ]
  },
  {
   "cell_type": "markdown",
   "id": "edc158c5-a064-4b2a-8ad7-a56aa9dead34",
   "metadata": {},
   "source": [
    "### 3. Mini-benchmark"
   ]
  },
  {
   "cell_type": "code",
   "execution_count": 10,
   "id": "cd8e66ba-11bd-45d5-abc7-6c6890e4c72c",
   "metadata": {},
   "outputs": [],
   "source": [
    "classifier_list = [\n",
    "    \n",
    "        # attention mil networks\n",
    "        (\"AdditiveAttentionNetworkClassifier\", AdditiveAttentionNetworkClassifier()),\n",
    "        (\"SelfAttentionNetworkClassifier\", SelfAttentionNetworkClassifier()),\n",
    "        (\"HopfieldAttentionNetworkClassifier\", HopfieldAttentionNetworkClassifier()),\n",
    "\n",
    "        # other mil networks\n",
    "        (\"DynamicPoolingNetworkClassifier\", DynamicPoolingNetworkClassifier()),\n",
    "    ]"
   ]
  },
  {
   "cell_type": "code",
   "execution_count": 11,
   "id": "d3e91aa0-2499-45ba-a8da-19cd77204532",
   "metadata": {},
   "outputs": [],
   "source": [
    "DEFAULT_PARAM_GRID[\"hidden_layer_sizes\"] = (2048, 1024, 512, 256, 128, 64)"
   ]
  },
  {
   "cell_type": "code",
   "execution_count": 15,
   "id": "380f7b5f-cb1c-48f1-aa84-7491be67d13f",
   "metadata": {},
   "outputs": [
    {
     "name": "stdout",
     "output_type": "stream",
     "text": [
      "\n",
      "[Task 1/3] Starting task: 'or'\n",
      "  [Model 1/4] Training model: 'AdditiveAttentionNetworkClassifier' for task 'or'\n",
      "  [Model 2/4] Training model: 'SelfAttentionNetworkClassifier' for task 'or'\n",
      "  [Model 3/4] Training model: 'HopfieldAttentionNetworkClassifier' for task 'or'\n",
      "  [Model 4/4] Training model: 'DynamicPoolingNetworkClassifier' for task 'or'\n",
      "\n",
      "[Task 2/3] Starting task: 'and'\n",
      "  [Model 1/4] Training model: 'AdditiveAttentionNetworkClassifier' for task 'and'\n",
      "  [Model 2/4] Training model: 'SelfAttentionNetworkClassifier' for task 'and'\n",
      "  [Model 3/4] Training model: 'HopfieldAttentionNetworkClassifier' for task 'and'\n",
      "  [Model 4/4] Training model: 'DynamicPoolingNetworkClassifier' for task 'and'\n",
      "\n",
      "[Task 3/3] Starting task: 'xor'\n",
      "  [Model 1/4] Training model: 'AdditiveAttentionNetworkClassifier' for task 'xor'\n",
      "  [Model 2/4] Training model: 'SelfAttentionNetworkClassifier' for task 'xor'\n",
      "  [Model 3/4] Training model: 'HopfieldAttentionNetworkClassifier' for task 'xor'\n",
      "  [Model 4/4] Training model: 'DynamicPoolingNetworkClassifier' for task 'xor'\n",
      "\n",
      "All tasks and models completed.\n"
     ]
    }
   ],
   "source": [
    "bag_size = 10\n",
    "num_bags = 10000\n",
    "\n",
    "data, targets = load_mnist()\n",
    "\n",
    "res_df = pd.DataFrame()\n",
    "for task_idx, task in enumerate([\"or\", \"and\", \"xor\"], 1):\n",
    "    print(f\"\\n[Task {task_idx}/3] Starting task: '{task}'\")\n",
    "\n",
    "    # create dataset\n",
    "    if task == \"or\":\n",
    "        bags, labels, key = create_bags_or(data, targets, bag_size=bag_size, num_bags=num_bags, key_digit=3, key_instances_per_bag=1)\n",
    "        kid_accuracy = kid_accuracy_or\n",
    "    elif task == \"and\":\n",
    "        bags, labels, key = create_bags_and(data, targets,  bag_size=bag_size, num_bags=num_bags, key_digits=(3, 7))\n",
    "        kid_accuracy = kid_accuracy_and\n",
    "    elif task == \"xor\":\n",
    "        bags, labels, key = create_bags_xor(data, targets, bag_size=bag_size, num_bags=num_bags, key_digits=(3, 7))\n",
    "        kid_accuracy = kid_accuracy_xor\n",
    "\n",
    "    # prepare data\n",
    "    x_train, x_test, y_train, y_test, key_train, key_test = train_test_split(bags, labels, key, random_state=42)\n",
    "    scaler = BagMinMaxScaler()\n",
    "    scaler.fit(x_train)\n",
    "    x_train_scaled, x_test_scaled = scaler.transform(x_train), scaler.transform(x_test)\n",
    "\n",
    "    # build models\n",
    "    for model_idx, (name, model) in enumerate(classifier_list, 1):\n",
    "        print(f\"  [Model {model_idx}/{len(classifier_list)}] Training model: '{name}' for task '{task}'\")\n",
    "\n",
    "        # train model\n",
    "        # model.hopt(x_train_scaled, y_train, param_grid=DEFAULT_PARAM_GRID, verbose=False)\n",
    "        model.fit(x_train_scaled, y_train)\n",
    "        # predict\n",
    "        y_prob = model.predict(x_test_scaled)\n",
    "        y_pred = np.where(y_prob > 0.5, 1, 0)\n",
    "        w_pred = model.get_instance_weights(x_test_scaled)\n",
    "        w_pred = [w.flatten() for w in w_pred]\n",
    "        #\n",
    "        res_df.loc[name, f\"PRED_{task}\"] = accuracy_score(y_test, y_pred)\n",
    "        res_df.loc[name, f\"KID_{task}\"] = kid_accuracy(key_test, w_pred, y_test)\n",
    "\n",
    "print(\"\\nAll tasks and models completed.\")"
   ]
  },
  {
   "cell_type": "code",
   "execution_count": 16,
   "id": "3a18b477-27b4-4346-bb64-2d6879b63e75",
   "metadata": {},
   "outputs": [
    {
     "data": {
      "text/html": [
       "<div>\n",
       "<style scoped>\n",
       "    .dataframe tbody tr th:only-of-type {\n",
       "        vertical-align: middle;\n",
       "    }\n",
       "\n",
       "    .dataframe tbody tr th {\n",
       "        vertical-align: top;\n",
       "    }\n",
       "\n",
       "    .dataframe thead th {\n",
       "        text-align: right;\n",
       "    }\n",
       "</style>\n",
       "<table border=\"1\" class=\"dataframe\">\n",
       "  <thead>\n",
       "    <tr style=\"text-align: right;\">\n",
       "      <th></th>\n",
       "      <th>PRED_or</th>\n",
       "      <th>KID_or</th>\n",
       "      <th>PRED_and</th>\n",
       "      <th>KID_and</th>\n",
       "      <th>PRED_xor</th>\n",
       "      <th>KID_xor</th>\n",
       "    </tr>\n",
       "  </thead>\n",
       "  <tbody>\n",
       "    <tr>\n",
       "      <th>AdditiveAttentionNetworkClassifier</th>\n",
       "      <td>0.97</td>\n",
       "      <td>0.98</td>\n",
       "      <td>0.73</td>\n",
       "      <td>0.01</td>\n",
       "      <td>0.66</td>\n",
       "      <td>0.03</td>\n",
       "    </tr>\n",
       "    <tr>\n",
       "      <th>SelfAttentionNetworkClassifier</th>\n",
       "      <td>0.97</td>\n",
       "      <td>0.98</td>\n",
       "      <td>0.73</td>\n",
       "      <td>0.09</td>\n",
       "      <td>0.81</td>\n",
       "      <td>0.07</td>\n",
       "    </tr>\n",
       "    <tr>\n",
       "      <th>HopfieldAttentionNetworkClassifier</th>\n",
       "      <td>0.97</td>\n",
       "      <td>0.98</td>\n",
       "      <td>0.71</td>\n",
       "      <td>0.04</td>\n",
       "      <td>0.63</td>\n",
       "      <td>0.32</td>\n",
       "    </tr>\n",
       "    <tr>\n",
       "      <th>DynamicPoolingNetworkClassifier</th>\n",
       "      <td>0.96</td>\n",
       "      <td>0.98</td>\n",
       "      <td>0.73</td>\n",
       "      <td>0.78</td>\n",
       "      <td>0.62</td>\n",
       "      <td>0.00</td>\n",
       "    </tr>\n",
       "  </tbody>\n",
       "</table>\n",
       "</div>"
      ],
      "text/plain": [
       "                                    PRED_or  KID_or  PRED_and  KID_and  \\\n",
       "AdditiveAttentionNetworkClassifier     0.97    0.98      0.73     0.01   \n",
       "SelfAttentionNetworkClassifier         0.97    0.98      0.73     0.09   \n",
       "HopfieldAttentionNetworkClassifier     0.97    0.98      0.71     0.04   \n",
       "DynamicPoolingNetworkClassifier        0.96    0.98      0.73     0.78   \n",
       "\n",
       "                                    PRED_xor  KID_xor  \n",
       "AdditiveAttentionNetworkClassifier      0.66     0.03  \n",
       "SelfAttentionNetworkClassifier          0.81     0.07  \n",
       "HopfieldAttentionNetworkClassifier      0.63     0.32  \n",
       "DynamicPoolingNetworkClassifier         0.62     0.00  "
      ]
     },
     "execution_count": 16,
     "metadata": {},
     "output_type": "execute_result"
    }
   ],
   "source": [
    "res_df.round(2)"
   ]
  },
  {
   "cell_type": "code",
   "execution_count": null,
   "id": "4ac3f968-a077-4a54-933d-112708927732",
   "metadata": {},
   "outputs": [],
   "source": []
  },
  {
   "cell_type": "code",
   "execution_count": null,
   "id": "e780ce1a-b2bf-48a3-b4f1-36b6cfb4b564",
   "metadata": {},
   "outputs": [],
   "source": []
  },
  {
   "cell_type": "code",
   "execution_count": null,
   "id": "320b6d73-b43e-4975-a869-d34935fe56d6",
   "metadata": {},
   "outputs": [],
   "source": []
  }
 ],
 "metadata": {
  "kernelspec": {
   "display_name": "milearn",
   "language": "python",
   "name": "milearn"
  },
  "language_info": {
   "codemirror_mode": {
    "name": "ipython",
    "version": 3
   },
   "file_extension": ".py",
   "mimetype": "text/x-python",
   "name": "python",
   "nbconvert_exporter": "python",
   "pygments_lexer": "ipython3",
   "version": "3.9.23"
  }
 },
 "nbformat": 4,
 "nbformat_minor": 5
}
