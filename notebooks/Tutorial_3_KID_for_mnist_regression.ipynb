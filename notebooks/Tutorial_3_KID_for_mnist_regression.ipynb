{
 "cells": [
  {
   "cell_type": "markdown",
   "id": "cad815b6-298f-4b52-ad56-2aa3bf5deadb",
   "metadata": {},
   "source": [
    "### Introduction\n",
    "\n",
    "Each bag contains a fixed number of MNIST digits (e.g., 5). The label is a sum of digits in the bag. The task is to predict the sum of digits and the weights of contribution of each digit. Perfectly, the bigger the digit is, the higher the predicted weight it should have.\n",
    "\n",
    "**Instance:** One MNIST digit image.\n",
    "\n",
    "**Bag**: A collection of digits (e.g., a list of 5 MNIST digits).\n",
    "\n",
    "**Label:** A sum of digits in the bag.\n",
    "\n",
    "**Key instance:** All digits."
   ]
  },
  {
   "cell_type": "code",
   "execution_count": null,
   "id": "0fffd8ff-fa63-44f2-b374-09dd64168557",
   "metadata": {},
   "outputs": [],
   "source": [
    "import logging\n",
    "import warnings\n",
    "warnings.filterwarnings(\"ignore\")\n",
    "logging.getLogger(\"pytorch_lightning\").setLevel(logging.ERROR)\n",
    "logging.getLogger(\"lightning\").setLevel(logging.ERROR)\n",
    "\n",
    "import time\n",
    "import torch\n",
    "import random\n",
    "\n",
    "import numpy as np\n",
    "import pandas as pd\n",
    "\n",
    "import matplotlib.pyplot as plt\n",
    "\n",
    "# MNIST dataset creation\n",
    "from milearn.data.mnist import load_mnist, create_bags_or, create_bags_and, create_bags_xor, create_bags_reg\n",
    "\n",
    "# Preprocessing\n",
    "from milearn.preprocessing import BagMinMaxScaler\n",
    "\n",
    "# Network hparams\n",
    "from milearn.network.module.hopt import DEFAULT_PARAM_GRID\n",
    "\n",
    "# MIL wrappers\n",
    "from milearn.network.regressor import BagWrapperMLPNetworkRegressor, InstanceWrapperMLPNetworkRegressor\n",
    "from milearn.network.classifier import BagWrapperMLPNetworkClassifier, InstanceWrapperMLPNetworkClassifier\n",
    "\n",
    "# MIL networks\n",
    "from milearn.network.regressor import (InstanceNetworkRegressor,\n",
    "                                       BagNetworkRegressor,\n",
    "                                       AdditiveAttentionNetworkRegressor,\n",
    "                                       SelfAttentionNetworkRegressor,\n",
    "                                       HopfieldAttentionNetworkRegressor,\n",
    "                                       DynamicPoolingNetworkRegressor)\n",
    "\n",
    "# Utils\n",
    "from sklearn.metrics import r2_score, accuracy_score\n",
    "from sklearn.model_selection import train_test_split\n",
    "\n",
    "# Prediction visualisation\n",
    "from milearn.data.mnist import visualize_bag_with_weights"
   ]
  },
  {
   "cell_type": "markdown",
   "id": "bc8b79a2-60cd-4949-9b15-b2bd15becc2a",
   "metadata": {},
   "source": [
    "### Key Instance Detection Ranking Accuracy for Regression\n",
    "\n",
    "This function evaluates how well a model's predicted attention weights rank the important instances in a bag, by computing the Spearman rank correlation between:\n",
    "\n",
    "* The true importance ranking (represented here by the digit values)\n",
    "\n",
    "* The predicted importance scores (attention weights)"
   ]
  },
  {
   "cell_type": "code",
   "execution_count": null,
   "id": "2523d080-47da-4098-a64f-329354411ada",
   "metadata": {},
   "outputs": [],
   "source": [
    "def kid_ranking_accuracy(instance_digits, attn_weights):\n",
    "\n",
    "    per_bag_corrs = []\n",
    "    for w, digits in zip(attn_weights, instance_digits):\n",
    "        if len(set(digits)) == 1:\n",
    "            # Avoid undefined correlation when all digits are identical\n",
    "            per_bag_corrs.append(0.0)\n",
    "            continue\n",
    "\n",
    "        corr, _ = spearmanr(w, digits)\n",
    "        if np.isnan(corr):\n",
    "            corr = 0.0\n",
    "        per_bag_corrs.append(corr)\n",
    "\n",
    "    mean_corr = np.mean(per_bag_corrs)\n",
    "    return mean_corr"
   ]
  },
  {
   "cell_type": "markdown",
   "id": "ecfe8ea6-2eb7-46b3-b43d-1f5d41ed7a65",
   "metadata": {},
   "source": [
    "### 1. Create MNIST dataset"
   ]
  },
  {
   "cell_type": "code",
   "execution_count": null,
   "id": "a3e5ffe2-fd5a-478f-9106-262352762de1",
   "metadata": {},
   "outputs": [],
   "source": [
    "bag_size = 10\n",
    "num_bags = 10000\n",
    "\n",
    "data, targets = load_mnist()\n",
    "bags, labels, key = create_bags_reg(data, targets, bag_size=bag_size, num_bags=num_bags, bag_agg=\"mean\", random_state=42)"
   ]
  },
  {
   "cell_type": "code",
   "execution_count": null,
   "id": "2e6df8e0-e6c7-467e-bf25-602a9b0dc6a4",
   "metadata": {},
   "outputs": [],
   "source": [
    "# digit values\n",
    "key[0]"
   ]
  },
  {
   "cell_type": "markdown",
   "id": "dc3c8913-506b-41f2-8140-62061c4ff2ba",
   "metadata": {},
   "source": [
    "### 2. Build model"
   ]
  },
  {
   "cell_type": "code",
   "execution_count": null,
   "id": "600690f3-4433-42bc-8b3c-7cd5e773ec0d",
   "metadata": {},
   "outputs": [],
   "source": [
    "# train/test split\n",
    "x_train, x_test, y_train, y_test, key_train, key_test = train_test_split(bags, labels, key, random_state=42)\n",
    "\n",
    "# features scaling\n",
    "scaler = BagMinMaxScaler()\n",
    "scaler.fit(x_train)\n",
    "x_train_scaled = scaler.transform(x_train)\n",
    "x_test_scaled = scaler.transform(x_test)"
   ]
  },
  {
   "cell_type": "code",
   "execution_count": null,
   "id": "a6571b60-593c-46dd-902f-b73b2ee3a39d",
   "metadata": {},
   "outputs": [],
   "source": [
    "model = DynamicPoolingNetworkRegressor()\n",
    "model.hopt(x_train_scaled, y_train, param_grid=DEFAULT_PARAM_GRID, verbose=True)\n",
    "model.fit(x_train_scaled, y_train)"
   ]
  },
  {
   "cell_type": "code",
   "execution_count": null,
   "id": "1447af52-6665-4e80-8fa0-86692ebfeff9",
   "metadata": {},
   "outputs": [],
   "source": [
    "y_pred = model.predict(x_test_scaled)\n",
    "w_pred = model.get_instance_weights(x_test_scaled)"
   ]
  },
  {
   "cell_type": "code",
   "execution_count": null,
   "id": "29974395-3648-4476-9cdf-804eae3701b6",
   "metadata": {},
   "outputs": [],
   "source": [
    "print(f\"Regression R2: {r2_score(y_test, y_pred):.2f}\")\n",
    "print(f\"KID ranking accuracy: {kid_ranking_accuracy(key_test, w_pred):.2f}\")"
   ]
  },
  {
   "cell_type": "code",
   "execution_count": null,
   "id": "75e29d83-9392-4a5a-9b9e-8ca3ab69f4bd",
   "metadata": {},
   "outputs": [],
   "source": [
    "N = 6\n",
    "visualize_bag_with_weights(x_test[N], w_pred[N], digits=key_test[N], sort=True, \n",
    "                           title=f\"Bag {N}\\nPredicted label:{y_pred[N].item():.1f}\\nTrue label: {y_test[N]}\")"
   ]
  },
  {
   "cell_type": "markdown",
   "id": "01ac942f-cfcc-4505-a516-a5e1f86bcb24",
   "metadata": {},
   "source": [
    "### 3. KID benchmark"
   ]
  },
  {
   "cell_type": "code",
   "execution_count": null,
   "id": "a6279d7d-adba-4742-a85b-e2c47ab05f05",
   "metadata": {},
   "outputs": [],
   "source": [
    "regressor_list = [\n",
    "    \n",
    "        # attention mil networks\n",
    "        (\"AdditiveAttentionNetworkRegressor\", AdditiveAttentionNetworkRegressor()),\n",
    "        (\"SelfAttentionNetworkRegressor\", SelfAttentionNetworkRegressor()),\n",
    "        (\"HopfieldAttentionNetworkRegressor\", HopfieldAttentionNetworkRegressor()),\n",
    "\n",
    "        # other mil networks\n",
    "        (\"DynamicPoolingNetworkRegressor\", DynamicPoolingNetworkRegressor()),\n",
    "    ]"
   ]
  },
  {
   "cell_type": "code",
   "execution_count": null,
   "id": "f0ff7530-749f-4b68-a4e8-44421c8b8eee",
   "metadata": {},
   "outputs": [],
   "source": [
    "bag_size = 10\n",
    "num_bags = 10000\n",
    "\n",
    "# create data\n",
    "data, targets = load_mnist()\n",
    "bags, labels, key = create_bags_sum(data, targets, bag_size=bag_size, num_bags=num_bags)\n",
    "x_train, x_test, y_train, y_test, key_train, key_test = train_test_split(bags, labels, key, random_state=42)\n",
    "\n",
    "# scale features\n",
    "scaler = BagMinMaxScaler()\n",
    "scaler.fit(x_train)\n",
    "x_train_scaled, x_test_scaled = scaler.transform(x_train), scaler.transform(x_test)\n",
    "\n",
    "# build models\n",
    "res_df = pd.DataFrame()\n",
    "for model_idx, (name, model) in enumerate(network_list, 1):\n",
    "    print(f\"  [Model {model_idx}/{len(network_list)}] Training model: '{name}'\")\n",
    "\n",
    "    # train model\n",
    "    # model.hopt(x_train_scaled, y_train, param_grid=DEFAULT_PARAM_GRID, verbose=False)\n",
    "    model.fit(x_train_scaled, y_train)\n",
    "    # predict\n",
    "    y_pred = model.predict(x_test_scaled)\n",
    "    w_pred = model.get_instance_weights(x_test_scaled)\n",
    "    #\n",
    "    res_df.loc[name, \"PRED_R2\"] = r2_score(y_test, y_pred)\n",
    "    res_df.loc[name, \"KID_RANK\"] = kid_ranking_accuracy(key_test, w_pred)\n",
    "\n",
    "print(\"\\nAll models completed.\")"
   ]
  },
  {
   "cell_type": "code",
   "execution_count": null,
   "id": "db7419e0-5556-4eb1-a2d5-e6c2cbad0d1c",
   "metadata": {},
   "outputs": [],
   "source": [
    "res_df.round(2)"
   ]
  },
  {
   "cell_type": "code",
   "execution_count": null,
   "id": "9797dded-caeb-441a-a8b3-882d22d944d6",
   "metadata": {},
   "outputs": [],
   "source": []
  }
 ],
 "metadata": {
  "kernelspec": {
   "display_name": "milearn",
   "language": "python",
   "name": "milearn"
  },
  "language_info": {
   "codemirror_mode": {
    "name": "ipython",
    "version": 3
   },
   "file_extension": ".py",
   "mimetype": "text/x-python",
   "name": "python",
   "nbconvert_exporter": "python",
   "pygments_lexer": "ipython3",
   "version": "3.9.23"
  }
 },
 "nbformat": 4,
 "nbformat_minor": 5
}
