{
 "cells": [
  {
   "cell_type": "markdown",
   "id": "0cfbb6da-ba1a-453b-b72e-03d7afa85210",
   "metadata": {},
   "source": [
    "### Introduction\n",
    "\n",
    "Each bag contains a fixed number of MNIST digits (e.g., 10). Each digit belongs to a class (0–9), and the bag label is determined based on the digits using one of the specific logical rules.\n",
    "\n",
    "**Instance:** One MNIST digit image.\n",
    "\n",
    "**Bag**: A collection of digits (e.g., a list of 10 MNIST digits).\n",
    "\n",
    "**Label:** Positive, if, for example, a bag contains some key digit (e.g., 3), otherwise negative.\n",
    "\n",
    "**Key instance:** A key digit image."
   ]
  },
  {
   "cell_type": "markdown",
   "id": "1e5aa08e-d15d-4423-b14a-ef679fada270",
   "metadata": {},
   "source": [
    "### Logic-Based Labeling Rules\n",
    "\n",
    "🟢 **OR Setting: Easy** \n",
    "\n",
    "The bag is positive if at least one instance belongs to a target class (e.g., digit 3).\n",
    "\n",
    "* Bag Label = 1 if any digit in the bag is a 3\n",
    "\n",
    "* Key instance = any one of the 3s (all of them are “valid” keys)\n",
    "\n",
    "**Intuition:** Easy, similar to classic MIL assumption.\n",
    "\n",
    "**Example:**\n",
    "Bag = [1, 5, 7, 3, 0] → Label = 1 / Key instance: 7\n",
    "  \n",
    "🔴 **AND Setting: Medium**\n",
    "\n",
    "The bag is positive only if all instances satisfy a condition (e.g., 3 and 7 should be presented at the same time).  \n",
    "* Bag Label = 1 if 3 and 7 are in the bug at the same time.  \n",
    "* Key instance = 3 and 7; if only one is presented, label = 0.\n",
    "\n",
    "**Intuition:** Harder than OR, no single key; the absence of a “bad” instance is important\n",
    "\n",
    "**Example:**  \n",
    "Bag = [0, 3, 4, 6, 7] → Label = 1 / Key instances: 3 and 7  \n",
    "Bag = [0, 3, 3, 6, 8] → Label = 0\n",
    "\n",
    "🟡 **XOR Setting: Hard**\n",
    "\n",
    "The bag is positive if an odd number of target class instances are present.\n",
    "\n",
    "* Bag Label = 1 if there's 3 but not 7.  \n",
    "* Key instance = The exact configuration matters — it’s not about presence alone, but count.\n",
    "\n",
    "**Intuition:** Very hard — label depends on interactions between instances\n",
    "\n",
    "**Example:**  \n",
    "Bag = [1, 3, 7, 2] → Label = 0 (3 and 7 at the same time)  \n",
    "Bag = [1, 3, 6, 2] → Label = 1 (only 3 but not 7) / Key instances: 3  \n",
    "Bag = [1, 5, 7, 2] → Label = 1 (only 7 but not 3) / Key instances: 7    "
   ]
  },
  {
   "cell_type": "code",
   "execution_count": 1,
   "id": "686dfe9f-1750-402e-8261-e894f3246376",
   "metadata": {},
   "outputs": [],
   "source": [
    "import torch\n",
    "import random\n",
    "\n",
    "import numpy as np\n",
    "import pandas as pd\n",
    "\n",
    "import matplotlib.pyplot as plt\n",
    "\n",
    "# MNIST dataset creation\n",
    "from qsarmil.mil.data.mnist import load_mnist, create_bags_or, create_bags_and, create_bags_xor\n",
    "from qsarmil.mil.network.module.utils import set_seed\n",
    "\n",
    "# MIL classifiers\n",
    "from qsarmil.mil.network.classifier import (AttentionNetworkClassifier,\n",
    "                                            TempAttentionNetworkClassifier,\n",
    "                                            GatedAttentionNetworkClassifier,\n",
    "                                            MultiHeadAttentionNetworkClassifier,\n",
    "                                            SelfAttentionNetworkClassifier,\n",
    "                                            HopfieldAttentionNetworkClassifier,\n",
    "                                            DynamicPoolingNetworkClassifier)\n",
    "\n",
    "# Utils\n",
    "from sklearn.metrics import accuracy_score\n",
    "from sklearn.model_selection import train_test_split\n",
    "from qsarmil.mil.preprocessing import BagMinMaxScaler\n",
    "\n",
    "# Prediction visualisation\n",
    "from qsarmil.mil.data.mnist import visualize_bag_with_weights"
   ]
  },
  {
   "cell_type": "markdown",
   "id": "9d3cbe1b-1c1a-450e-a959-a3d8e28ae502",
   "metadata": {},
   "source": [
    "### Key Instance Detection Accuracy Functions\n",
    "\n",
    "These functions evaluate how well a model's predicted attention weights or importance scores match the true key instance indices in positive bags, according to the logic used during bag labeling.\n",
    "\n",
    "Each function returns a fraction of correctly identified positive bags, based on whether at least one (OR), all (AND), or exactly one (XOR) of the true key instances are recovered among the top-k predicted instances."
   ]
  },
  {
   "cell_type": "code",
   "execution_count": 2,
   "id": "690b4889-8f67-4edf-8ea6-a04038a10e1c",
   "metadata": {},
   "outputs": [],
   "source": [
    "def kid_accuracy_or(key_indices, predicted_weights, bag_labels, top_k=1):\n",
    "    \n",
    "    correct, total = 0, 0\n",
    "    for weights, keys, label in zip(predicted_weights, key_indices, bag_labels):\n",
    "        if label == 1:\n",
    "            pred_top_k = np.argsort(weights)[-top_k:]\n",
    "            if any(idx in pred_top_k for idx in keys):\n",
    "                correct += 1\n",
    "            total += 1\n",
    "\n",
    "    return correct / total if total > 0 else 0.0\n",
    "\n",
    "def kid_accuracy_and(key_indices, predicted_weights, bag_labels, top_k=2):\n",
    "    \n",
    "    correct, total = 0, 0\n",
    "    for weights, keys, label in zip(predicted_weights, key_indices, bag_labels):\n",
    "        if label == 1:\n",
    "            pred_top_k = set(np.argsort(weights)[-top_k:])\n",
    "            if all(k in pred_top_k for k in keys):\n",
    "                correct += 1\n",
    "            total += 1\n",
    "\n",
    "    return correct / total if total > 0 else 0.0\n",
    "\n",
    "def kid_accuracy_xor(key_indices, predicted_weights, bag_labels, top_k=1):\n",
    "    \n",
    "    correct, total = 0, 0\n",
    "    for weights, keys, label in zip(predicted_weights, key_indices, bag_labels):\n",
    "        if label == 1:\n",
    "            pred_top_k = np.argsort(weights)[-top_k:]\n",
    "            match_count = sum(idx in pred_top_k for idx in keys)\n",
    "            if match_count == 1:\n",
    "                correct += 1\n",
    "            total += 1\n",
    "\n",
    "    return correct / total if total > 0 else 0.0"
   ]
  },
  {
   "cell_type": "markdown",
   "id": "e3fa1b14-bcdf-44c8-8c1c-b3449ad23cd8",
   "metadata": {},
   "source": [
    "### 1. Create MNIST dataset"
   ]
  },
  {
   "cell_type": "code",
   "execution_count": 3,
   "id": "144ae61b-82a8-4110-b7a6-fcd337e7b048",
   "metadata": {},
   "outputs": [],
   "source": [
    "bag_size = 10\n",
    "num_bags = 1000\n",
    "setting_type = \"or\"\n",
    "\n",
    "data, targets = load_mnist()\n",
    "if setting_type == \"or\":\n",
    "    bags, labels, key = create_bags_or(data, targets, bag_size=bag_size, num_bags=num_bags, key_digit=3, key_instances_per_bag=1, random_state=42)\n",
    "    kid_accuracy = kid_accuracy_or\n",
    "elif setting_type == \"and\":\n",
    "    bags, labels, key = create_bags_and(data, targets,  bag_size=bag_size, num_bags=num_bags, key_digits=(3, 7), random_state=42)\n",
    "    kid_accuracy = kid_accuracy_and\n",
    "elif setting_type == \"xor\":\n",
    "    bags, labels, key = create_bags_xor(data, targets, bag_size=bag_size, num_bags=num_bags, key_digits=(3, 7), random_state=42)\n",
    "    kid_accuracy = kid_accuracy_xor"
   ]
  },
  {
   "cell_type": "markdown",
   "id": "5c4e3d86-e1a3-465a-8359-137842d01b4d",
   "metadata": {},
   "source": [
    "### 2. Build model"
   ]
  },
  {
   "cell_type": "code",
   "execution_count": 4,
   "id": "0a6c2f8c-7b0d-4ac2-bc9e-3fa2c2b599be",
   "metadata": {},
   "outputs": [],
   "source": [
    "network_hparams = {'hidden_layer_sizes':(256, 128, 64,),\n",
    "                   'num_epoch':300,\n",
    "                   'batch_size':128,\n",
    "                   'learning_rate':0.001,\n",
    "                   'weight_decay':0.001,\n",
    "                   'instance_weight_dropout':0.01,\n",
    "                   'init_cuda':False,\n",
    "                   'verbose':False}"
   ]
  },
  {
   "cell_type": "code",
   "execution_count": 5,
   "id": "7a4d7855-2c26-40ed-acfe-aded4c27a0e9",
   "metadata": {},
   "outputs": [],
   "source": [
    "x_train, x_test, y_train, y_test, key_train, key_test = train_test_split(bags, labels, key, random_state=42)"
   ]
  },
  {
   "cell_type": "code",
   "execution_count": 6,
   "id": "9376957c-3deb-4097-bd71-e9ea499a113e",
   "metadata": {},
   "outputs": [],
   "source": [
    "scaler = BagMinMaxScaler()\n",
    "scaler.fit(x_train)\n",
    "x_train_scaled = scaler.transform(x_train)\n",
    "x_test_scaled = scaler.transform(x_test)"
   ]
  },
  {
   "cell_type": "code",
   "execution_count": 7,
   "id": "9689703d-07db-46c5-9de8-645e1bc0604a",
   "metadata": {},
   "outputs": [
    {
     "data": {
      "text/plain": [
       "AttentionNetworkClassifier(\n",
       "  (extractor): Sequential(\n",
       "    (0): Linear(in_features=784, out_features=256, bias=True)\n",
       "    (1): ReLU()\n",
       "    (2): Linear(in_features=256, out_features=128, bias=True)\n",
       "    (3): ReLU()\n",
       "    (4): Linear(in_features=128, out_features=64, bias=True)\n",
       "    (5): ReLU()\n",
       "  )\n",
       "  (detector): Sequential(\n",
       "    (0): Linear(in_features=64, out_features=64, bias=True)\n",
       "    (1): Tanh()\n",
       "    (2): Linear(in_features=64, out_features=1, bias=True)\n",
       "  )\n",
       "  (estimator): Linear(in_features=64, out_features=1, bias=True)\n",
       ")"
      ]
     },
     "execution_count": 7,
     "metadata": {},
     "output_type": "execute_result"
    }
   ],
   "source": [
    "model = AttentionNetworkClassifier(**network_hparams)\n",
    "model.to(\"cpu\")\n",
    "model.fit(x_train_scaled, y_train)"
   ]
  },
  {
   "cell_type": "code",
   "execution_count": 8,
   "id": "dab85812-a162-4a03-bf0f-68f81345bee3",
   "metadata": {},
   "outputs": [],
   "source": [
    "y_prob = model.predict(x_test_scaled)\n",
    "y_pred = np.where(y_prob > 0.5, 1, 0)\n",
    "w_pred = model.get_instance_weights(x_test_scaled)"
   ]
  },
  {
   "cell_type": "code",
   "execution_count": 9,
   "id": "b524128b-9565-479e-90ee-f68a4c11262d",
   "metadata": {},
   "outputs": [
    {
     "name": "stdout",
     "output_type": "stream",
     "text": [
      "Classification accuracy: 0.84\n",
      "KID accuracy: 0.86\n"
     ]
    }
   ],
   "source": [
    "print(f\"Classification accuracy: {accuracy_score(y_test, y_pred):.2f}\")\n",
    "print(f\"KID accuracy: {kid_accuracy(key_test, w_pred, y_test):.2f}\")"
   ]
  },
  {
   "cell_type": "code",
   "execution_count": 10,
   "id": "263a8bd2-4583-4d9f-8e98-57b201dc9b64",
   "metadata": {},
   "outputs": [
    {
     "data": {
      "text/plain": [
       "array([  1,   6,  16,  21,  22,  26,  27,  30,  31,  33,  40,  41,  43,\n",
       "        45,  49,  50,  51,  52,  53,  58,  59,  60,  61,  63,  66,  67,\n",
       "        69,  73,  74,  76,  78,  79,  81,  84,  87,  88,  91,  95,  97,\n",
       "        98,  99, 100, 103, 106, 107, 108, 110, 112, 116, 117, 119, 121,\n",
       "       123, 124, 126, 127, 129, 130, 132, 136, 142, 143, 144, 145, 151,\n",
       "       153, 155, 159, 160, 162, 164, 165, 166, 169, 170, 171, 173, 174,\n",
       "       176, 177, 181, 182, 184, 195, 201, 202, 207, 208, 209, 212, 213,\n",
       "       220, 224, 226, 241, 242, 243, 246, 248, 249])"
      ]
     },
     "execution_count": 10,
     "metadata": {},
     "output_type": "execute_result"
    }
   ],
   "source": [
    "# bags with correct positive class prediction (use these indexes for visualization)\n",
    "np.where((y_pred == 1) & (np.array(y_test) == 1))[0]"
   ]
  },
  {
   "cell_type": "code",
   "execution_count": 11,
   "id": "81d3ea63-aede-4ec4-b128-a94df0867693",
   "metadata": {},
   "outputs": [
    {
     "data": {
      "image/png": "[encoded data removed]",
      "text/plain": [
       "<Figure size 1250x500 with 10 Axes>"
      ]
     },
     "metadata": {},
     "output_type": "display_data"
    }
   ],
   "source": [
    "N = 124\n",
    "visualize_bag_with_weights(x_test[N], w_pred[N], \n",
    "                           title=f\"Bag {N}\\nPredicted label:{y_pred[N].item()}\\nTrue label: {y_test[N]}\")"
   ]
  },
  {
   "cell_type": "markdown",
   "id": "edc158c5-a064-4b2a-8ad7-a56aa9dead34",
   "metadata": {},
   "source": [
    "### 3. KID benchmark"
   ]
  },
  {
   "cell_type": "code",
   "execution_count": 12,
   "id": "9dfe62d3-a5b2-4339-8ac2-720ebd7d8457",
   "metadata": {},
   "outputs": [],
   "source": [
    "network_hparams = {'hidden_layer_sizes':(256, 128, 64),\n",
    "                   'num_epoch':300,\n",
    "                   'batch_size':128,\n",
    "                   'learning_rate':0.001,\n",
    "                   'weight_decay':0.001,\n",
    "                   'instance_weight_dropout':0.01,\n",
    "                   'init_cuda':False,\n",
    "                   'verbose':False}"
   ]
  },
  {
   "cell_type": "code",
   "execution_count": 13,
   "id": "cd8e66ba-11bd-45d5-abc7-6c6890e4c72c",
   "metadata": {},
   "outputs": [],
   "source": [
    "network_list = [\n",
    "                (\"AttentionNetworkClassifier\", AttentionNetworkClassifier(**network_hparams)), \n",
    "                (\"TempAttentionNetworkClassifier\", TempAttentionNetworkClassifier(**network_hparams, tau=0.5)), \n",
    "                (\"GatedAttentionNetworkClassifier\", GatedAttentionNetworkClassifier(**network_hparams)), \n",
    "                (\"MultiHeadAttentionNetworkClassifier\", MultiHeadAttentionNetworkClassifier(**network_hparams, num_heads=10)), \n",
    "                (\"SelfAttentionNetworkClassifier\", SelfAttentionNetworkClassifier(**network_hparams)), \n",
    "                (\"HopfieldAttentionNetworkClassifier\", HopfieldAttentionNetworkClassifier(**network_hparams, beta=1)),\n",
    "                (\"DynamicPoolingNetworkClassifier\", DynamicPoolingNetworkClassifier(**network_hparams)),\n",
    "               ]"
   ]
  },
  {
   "cell_type": "code",
   "execution_count": 14,
   "id": "380f7b5f-cb1c-48f1-aa84-7491be67d13f",
   "metadata": {},
   "outputs": [
    {
     "name": "stdout",
     "output_type": "stream",
     "text": [
      "\n",
      "[Task 1/3] Starting task: 'or'\n",
      "  [Model 1/7] Training model: 'AttentionNetworkClassifier' for task 'or'\n",
      "  [Model 2/7] Training model: 'TempAttentionNetworkClassifier' for task 'or'\n",
      "  [Model 3/7] Training model: 'GatedAttentionNetworkClassifier' for task 'or'\n",
      "  [Model 4/7] Training model: 'MultiHeadAttentionNetworkClassifier' for task 'or'\n",
      "  [Model 5/7] Training model: 'SelfAttentionNetworkClassifier' for task 'or'\n",
      "  [Model 6/7] Training model: 'HopfieldAttentionNetworkClassifier' for task 'or'\n",
      "  [Model 7/7] Training model: 'DynamicPoolingNetworkClassifier' for task 'or'\n",
      "\n",
      "[Task 2/3] Starting task: 'and'\n",
      "  [Model 1/7] Training model: 'AttentionNetworkClassifier' for task 'and'\n",
      "  [Model 2/7] Training model: 'TempAttentionNetworkClassifier' for task 'and'\n",
      "  [Model 3/7] Training model: 'GatedAttentionNetworkClassifier' for task 'and'\n",
      "  [Model 4/7] Training model: 'MultiHeadAttentionNetworkClassifier' for task 'and'\n",
      "  [Model 5/7] Training model: 'SelfAttentionNetworkClassifier' for task 'and'\n",
      "  [Model 6/7] Training model: 'HopfieldAttentionNetworkClassifier' for task 'and'\n",
      "  [Model 7/7] Training model: 'DynamicPoolingNetworkClassifier' for task 'and'\n",
      "\n",
      "[Task 3/3] Starting task: 'xor'\n",
      "  [Model 1/7] Training model: 'AttentionNetworkClassifier' for task 'xor'\n",
      "  [Model 2/7] Training model: 'TempAttentionNetworkClassifier' for task 'xor'\n",
      "  [Model 3/7] Training model: 'GatedAttentionNetworkClassifier' for task 'xor'\n",
      "  [Model 4/7] Training model: 'MultiHeadAttentionNetworkClassifier' for task 'xor'\n",
      "  [Model 5/7] Training model: 'SelfAttentionNetworkClassifier' for task 'xor'\n",
      "  [Model 6/7] Training model: 'HopfieldAttentionNetworkClassifier' for task 'xor'\n",
      "  [Model 7/7] Training model: 'DynamicPoolingNetworkClassifier' for task 'xor'\n",
      "\n",
      "All tasks and models completed.\n"
     ]
    }
   ],
   "source": [
    "bag_size = 5\n",
    "num_bags = 10000\n",
    "\n",
    "data, targets = load_mnist()\n",
    "\n",
    "res_df = pd.DataFrame()\n",
    "for task_idx, task in enumerate([\"or\", \"and\", \"xor\"], 1):\n",
    "    print(f\"\\n[Task {task_idx}/3] Starting task: '{task}'\")\n",
    "\n",
    "    # create dataset\n",
    "    if task == \"or\":\n",
    "        bags, labels, key = create_bags_or(data, targets, bag_size=bag_size, num_bags=num_bags, key_digit=3, key_instances_per_bag=1)\n",
    "        kid_accuracy = kid_accuracy_or\n",
    "    elif task == \"and\":\n",
    "        bags, labels, key = create_bags_and(data, targets,  bag_size=bag_size, num_bags=num_bags, key_digits=(3, 7))\n",
    "        kid_accuracy = kid_accuracy_and\n",
    "    elif task == \"xor\":\n",
    "        bags, labels, key = create_bags_xor(data, targets, bag_size=bag_size, num_bags=num_bags, key_digits=(3, 7))\n",
    "        kid_accuracy = kid_accuracy_xor\n",
    "\n",
    "    # prepare data\n",
    "    x_train, x_test, y_train, y_test, key_train, key_test = train_test_split(bags, labels, key, random_state=42)\n",
    "    scaler = BagMinMaxScaler()\n",
    "    scaler.fit(x_train)\n",
    "    x_train_scaled, x_test_scaled = scaler.transform(x_train), scaler.transform(x_test)\n",
    "\n",
    "    # build models\n",
    "    for model_idx, (name, model) in enumerate(network_list, 1):\n",
    "        print(f\"  [Model {model_idx}/{len(network_list)}] Training model: '{name}' for task '{task}'\")\n",
    "\n",
    "        # train model\n",
    "        model.to(\"cpu\")\n",
    "        model.fit(x_train_scaled, y_train)\n",
    "        # predict\n",
    "        y_prob = model.predict(x_test_scaled)\n",
    "        y_pred = np.where(y_prob > 0.5, 1, 0)\n",
    "        w_pred = model.get_instance_weights(x_test_scaled)\n",
    "        #\n",
    "        res_df.loc[name, f\"PRED_{task}\"] = accuracy_score(y_test, y_pred)\n",
    "        res_df.loc[name, f\"KID_{task}\"] = kid_accuracy(key_test, w_pred, y_test)\n",
    "\n",
    "print(\"\\nAll tasks and models completed.\")"
   ]
  },
  {
   "cell_type": "code",
   "execution_count": 15,
   "id": "3a18b477-27b4-4346-bb64-2d6879b63e75",
   "metadata": {},
   "outputs": [
    {
     "data": {
      "text/html": [
       "<div>\n",
       "<style scoped>\n",
       "    .dataframe tbody tr th:only-of-type {\n",
       "        vertical-align: middle;\n",
       "    }\n",
       "\n",
       "    .dataframe tbody tr th {\n",
       "        vertical-align: top;\n",
       "    }\n",
       "\n",
       "    .dataframe thead th {\n",
       "        text-align: right;\n",
       "    }\n",
       "</style>\n",
       "<table border=\"1\" class=\"dataframe\">\n",
       "  <thead>\n",
       "    <tr style=\"text-align: right;\">\n",
       "      <th></th>\n",
       "      <th>PRED_or</th>\n",
       "      <th>KID_or</th>\n",
       "      <th>PRED_and</th>\n",
       "      <th>KID_and</th>\n",
       "      <th>PRED_xor</th>\n",
       "      <th>KID_xor</th>\n",
       "    </tr>\n",
       "  </thead>\n",
       "  <tbody>\n",
       "    <tr>\n",
       "      <th>AttentionNetworkClassifier</th>\n",
       "      <td>0.97</td>\n",
       "      <td>1.00</td>\n",
       "      <td>0.78</td>\n",
       "      <td>0.49</td>\n",
       "      <td>0.76</td>\n",
       "      <td>0.95</td>\n",
       "    </tr>\n",
       "    <tr>\n",
       "      <th>TempAttentionNetworkClassifier</th>\n",
       "      <td>0.97</td>\n",
       "      <td>0.99</td>\n",
       "      <td>0.79</td>\n",
       "      <td>0.49</td>\n",
       "      <td>0.75</td>\n",
       "      <td>0.95</td>\n",
       "    </tr>\n",
       "    <tr>\n",
       "      <th>GatedAttentionNetworkClassifier</th>\n",
       "      <td>0.97</td>\n",
       "      <td>0.99</td>\n",
       "      <td>0.80</td>\n",
       "      <td>0.46</td>\n",
       "      <td>0.75</td>\n",
       "      <td>0.96</td>\n",
       "    </tr>\n",
       "    <tr>\n",
       "      <th>MultiHeadAttentionNetworkClassifier</th>\n",
       "      <td>0.97</td>\n",
       "      <td>1.00</td>\n",
       "      <td>0.84</td>\n",
       "      <td>0.96</td>\n",
       "      <td>0.53</td>\n",
       "      <td>0.43</td>\n",
       "    </tr>\n",
       "    <tr>\n",
       "      <th>SelfAttentionNetworkClassifier</th>\n",
       "      <td>0.97</td>\n",
       "      <td>0.00</td>\n",
       "      <td>0.95</td>\n",
       "      <td>0.04</td>\n",
       "      <td>0.53</td>\n",
       "      <td>0.41</td>\n",
       "    </tr>\n",
       "    <tr>\n",
       "      <th>HopfieldAttentionNetworkClassifier</th>\n",
       "      <td>0.97</td>\n",
       "      <td>0.98</td>\n",
       "      <td>0.76</td>\n",
       "      <td>0.03</td>\n",
       "      <td>0.76</td>\n",
       "      <td>0.95</td>\n",
       "    </tr>\n",
       "    <tr>\n",
       "      <th>DynamicPoolingNetworkClassifier</th>\n",
       "      <td>0.97</td>\n",
       "      <td>1.00</td>\n",
       "      <td>0.76</td>\n",
       "      <td>0.94</td>\n",
       "      <td>0.58</td>\n",
       "      <td>0.80</td>\n",
       "    </tr>\n",
       "  </tbody>\n",
       "</table>\n",
       "</div>"
      ],
      "text/plain": [
       "                                     PRED_or  KID_or  PRED_and  KID_and  \\\n",
       "AttentionNetworkClassifier              0.97    1.00      0.78     0.49   \n",
       "TempAttentionNetworkClassifier          0.97    0.99      0.79     0.49   \n",
       "GatedAttentionNetworkClassifier         0.97    0.99      0.80     0.46   \n",
       "MultiHeadAttentionNetworkClassifier     0.97    1.00      0.84     0.96   \n",
       "SelfAttentionNetworkClassifier          0.97    0.00      0.95     0.04   \n",
       "HopfieldAttentionNetworkClassifier      0.97    0.98      0.76     0.03   \n",
       "DynamicPoolingNetworkClassifier         0.97    1.00      0.76     0.94   \n",
       "\n",
       "                                     PRED_xor  KID_xor  \n",
       "AttentionNetworkClassifier               0.76     0.95  \n",
       "TempAttentionNetworkClassifier           0.75     0.95  \n",
       "GatedAttentionNetworkClassifier          0.75     0.96  \n",
       "MultiHeadAttentionNetworkClassifier      0.53     0.43  \n",
       "SelfAttentionNetworkClassifier           0.53     0.41  \n",
       "HopfieldAttentionNetworkClassifier       0.76     0.95  \n",
       "DynamicPoolingNetworkClassifier          0.58     0.80  "
      ]
     },
     "execution_count": 15,
     "metadata": {},
     "output_type": "execute_result"
    }
   ],
   "source": [
    "res_df.round(2)"
   ]
  },
  {
   "cell_type": "code",
   "execution_count": null,
   "id": "61491430-f1fb-4118-81d9-04af559b711e",
   "metadata": {},
   "outputs": [],
   "source": []
  },
  {
   "cell_type": "code",
   "execution_count": null,
   "id": "5af3e777-a4a7-4406-b8af-0cd494e60d9f",
   "metadata": {},
   "outputs": [],
   "source": []
  }
 ],
 "metadata": {
  "kernelspec": {
   "display_name": "qsarmil",
   "language": "python",
   "name": "qsarmil"
  },
  "language_info": {
   "codemirror_mode": {
    "name": "ipython",
    "version": 3
   },
   "file_extension": ".py",
   "mimetype": "text/x-python",
   "name": "python",
   "nbconvert_exporter": "python",
   "pygments_lexer": "ipython3",
   "version": "3.10.18"
  }
 },
 "nbformat": 4,
 "nbformat_minor": 5
}
