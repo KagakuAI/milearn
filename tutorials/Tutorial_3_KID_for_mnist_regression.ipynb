{
 "cells": [
  {
   "cell_type": "markdown",
   "id": "cad815b6-298f-4b52-ad56-2aa3bf5deadb",
   "metadata": {},
   "source": [
    "### Introduction\n",
    "\n",
    "Each bag contains a fixed number of MNIST digits (e.g., 5). The label is a sum of digits in the bag. The task is to predict the sum of digits and the weights of contribution of each digit. Perfectly, the bigger the digit is, the higher the predicted weight it should have.\n",
    "\n",
    "**Instance:** One MNIST digit image.\n",
    "\n",
    "**Bag**: A collection of digits (e.g., a list of 5 MNIST digits).\n",
    "\n",
    "**Label:** A sum of digits in the bag.\n",
    "\n",
    "**Key instance:** All digits."
   ]
  },
  {
   "cell_type": "code",
   "execution_count": 1,
   "id": "0fffd8ff-fa63-44f2-b374-09dd64168557",
   "metadata": {},
   "outputs": [],
   "source": [
    "import torch\n",
    "import random\n",
    "\n",
    "import numpy as np\n",
    "import pandas as pd\n",
    "\n",
    "import matplotlib.pyplot as plt\n",
    "\n",
    "# MNIST dataset creation\n",
    "from qsarmil.mil.data.mnist import load_mnist, create_bags_sum\n",
    "from qsarmil.mil.network.module.utils import set_seed\n",
    "\n",
    "# MIL regressors\n",
    "from qsarmil.mil.network.regressor import (AttentionNetworkRegressor,\n",
    "                                           TempAttentionNetworkRegressor,\n",
    "                                           GatedAttentionNetworkRegressor,\n",
    "                                           MultiHeadAttentionNetworkRegressor,\n",
    "                                           SelfAttentionNetworkRegressor,\n",
    "                                           HopfieldAttentionNetworkRegressor,\n",
    "                                           DynamicPoolingNetworkRegressor)\n",
    "\n",
    "# Utils\n",
    "from scipy.stats import spearmanr\n",
    "from sklearn.metrics import r2_score\n",
    "from sklearn.model_selection import train_test_split\n",
    "from qsarmil.mil.preprocessing import BagMinMaxScaler\n",
    "\n",
    "# Prediction visualisation\n",
    "from qsarmil.mil.data.mnist import visualize_bag_with_weights"
   ]
  },
  {
   "cell_type": "markdown",
   "id": "bc8b79a2-60cd-4949-9b15-b2bd15becc2a",
   "metadata": {},
   "source": [
    "### Key Instance Detection Ranking Accuracy for Regression\n",
    "\n",
    "This function evaluates how well a model's predicted attention weights rank the important instances in a bag, by computing the Spearman rank correlation between:\n",
    "\n",
    "* The true importance ranking (represented here by the digit values)\n",
    "\n",
    "* The predicted importance scores (attention weights)"
   ]
  },
  {
   "cell_type": "code",
   "execution_count": 2,
   "id": "2523d080-47da-4098-a64f-329354411ada",
   "metadata": {},
   "outputs": [],
   "source": [
    "def kid_ranking_accuracy(instance_digits, attn_weights):\n",
    "\n",
    "    per_bag_corrs = []\n",
    "    for w, digits in zip(attn_weights, instance_digits):\n",
    "        if len(set(digits)) == 1:\n",
    "            # Avoid undefined correlation when all digits are identical\n",
    "            per_bag_corrs.append(0.0)\n",
    "            continue\n",
    "\n",
    "        corr, _ = spearmanr(w, digits)\n",
    "        if np.isnan(corr):\n",
    "            corr = 0.0\n",
    "        per_bag_corrs.append(corr)\n",
    "\n",
    "    mean_corr = np.mean(per_bag_corrs)\n",
    "    return mean_corr"
   ]
  },
  {
   "cell_type": "markdown",
   "id": "ecfe8ea6-2eb7-46b3-b43d-1f5d41ed7a65",
   "metadata": {},
   "source": [
    "### 1. Create MNIST dataset"
   ]
  },
  {
   "cell_type": "code",
   "execution_count": 3,
   "id": "a3e5ffe2-fd5a-478f-9106-262352762de1",
   "metadata": {},
   "outputs": [],
   "source": [
    "bag_size = 5\n",
    "num_bags = 5000\n",
    "\n",
    "data, targets = load_mnist()\n",
    "bags, labels, key = create_bags_sum(data, targets, bag_size=bag_size, num_bags=num_bags, random_state=42)"
   ]
  },
  {
   "cell_type": "code",
   "execution_count": 4,
   "id": "2e6df8e0-e6c7-467e-bf25-602a9b0dc6a4",
   "metadata": {},
   "outputs": [
    {
     "data": {
      "text/plain": [
       "[7, 3, 8, 9, 3]"
      ]
     },
     "execution_count": 4,
     "metadata": {},
     "output_type": "execute_result"
    }
   ],
   "source": [
    "# digit values\n",
    "key[0]"
   ]
  },
  {
   "cell_type": "markdown",
   "id": "dc3c8913-506b-41f2-8140-62061c4ff2ba",
   "metadata": {},
   "source": [
    "### 2. Build model"
   ]
  },
  {
   "cell_type": "code",
   "execution_count": 5,
   "id": "bfff7fa9-2f7b-450d-b947-b5826498d9ef",
   "metadata": {},
   "outputs": [],
   "source": [
    "network_hparams = {'hidden_layer_sizes':(256, 128, 64),\n",
    "                   'num_epoch':300,\n",
    "                   'batch_size':128,\n",
    "                   'learning_rate':0.001,\n",
    "                   'weight_decay':0.001,\n",
    "                   'instance_weight_dropout':0.01,\n",
    "                   'init_cuda':False,\n",
    "                   'verbose':False}"
   ]
  },
  {
   "cell_type": "code",
   "execution_count": 6,
   "id": "600690f3-4433-42bc-8b3c-7cd5e773ec0d",
   "metadata": {},
   "outputs": [],
   "source": [
    "x_train, x_test, y_train, y_test, key_train, key_test = train_test_split(bags, labels, key, random_state=42)"
   ]
  },
  {
   "cell_type": "code",
   "execution_count": 7,
   "id": "db33c98d-7b89-4231-93d3-2c9dab7af09a",
   "metadata": {},
   "outputs": [],
   "source": [
    "scaler = BagMinMaxScaler()\n",
    "scaler.fit(x_train)\n",
    "x_train_scaled = scaler.transform(x_train)\n",
    "x_test_scaled = scaler.transform(x_test)"
   ]
  },
  {
   "cell_type": "code",
   "execution_count": 8,
   "id": "a6571b60-593c-46dd-902f-b73b2ee3a39d",
   "metadata": {},
   "outputs": [
    {
     "data": {
      "text/plain": [
       "DynamicPoolingNetworkRegressor(\n",
       "  (extractor): Sequential(\n",
       "    (0): Linear(in_features=784, out_features=256, bias=True)\n",
       "    (1): ReLU()\n",
       "    (2): Linear(in_features=256, out_features=128, bias=True)\n",
       "    (3): ReLU()\n",
       "    (4): Linear(in_features=128, out_features=64, bias=True)\n",
       "    (5): ReLU()\n",
       "  )\n",
       "  (pooling): DynamicPooling()\n",
       "  (estimator): Norm()\n",
       ")"
      ]
     },
     "execution_count": 8,
     "metadata": {},
     "output_type": "execute_result"
    }
   ],
   "source": [
    "model = DynamicPoolingNetworkRegressor(**network_hparams)\n",
    "model.to(\"cpu\")\n",
    "model.fit(x_train_scaled, y_train)"
   ]
  },
  {
   "cell_type": "code",
   "execution_count": 9,
   "id": "1447af52-6665-4e80-8fa0-86692ebfeff9",
   "metadata": {},
   "outputs": [],
   "source": [
    "y_pred = model.predict(x_test_scaled)\n",
    "w_pred = model.get_instance_weights(x_test_scaled)"
   ]
  },
  {
   "cell_type": "code",
   "execution_count": 10,
   "id": "29974395-3648-4476-9cdf-804eae3701b6",
   "metadata": {},
   "outputs": [
    {
     "name": "stdout",
     "output_type": "stream",
     "text": [
      "Regression R2: 0.72\n",
      "KID ranking accuracy: 0.84\n"
     ]
    }
   ],
   "source": [
    "print(f\"Regression R2: {r2_score(y_test, y_pred):.2f}\")\n",
    "print(f\"KID ranking accuracy: {kid_ranking_accuracy(key_test, w_pred):.2f}\")"
   ]
  },
  {
   "cell_type": "code",
   "execution_count": 11,
   "id": "75e29d83-9392-4a5a-9b9e-8ca3ab69f4bd",
   "metadata": {},
   "outputs": [
    {
     "data": {
      "image/png": "[encoded data removed]",
      "text/plain": [
       "<Figure size 1250x250 with 5 Axes>"
      ]
     },
     "metadata": {},
     "output_type": "display_data"
    }
   ],
   "source": [
    "N = 6\n",
    "visualize_bag_with_weights(x_test[N], w_pred[N], digits=key_test[N], sort=True, \n",
    "                           title=f\"Bag {N}\\nPredicted label:{y_pred[N].item():.1f}\\nTrue label: {y_test[N]}\")"
   ]
  },
  {
   "cell_type": "markdown",
   "id": "01ac942f-cfcc-4505-a516-a5e1f86bcb24",
   "metadata": {},
   "source": [
    "### 3. KID benchmark"
   ]
  },
  {
   "cell_type": "code",
   "execution_count": 12,
   "id": "b3145df8-75ff-4049-8572-64a5242bfb88",
   "metadata": {},
   "outputs": [],
   "source": [
    "network_hparams = {'hidden_layer_sizes':(256, 128, 64),\n",
    "                   'num_epoch':300,\n",
    "                   'batch_size':128,\n",
    "                   'learning_rate':0.001,\n",
    "                   'weight_decay':0.001,\n",
    "                   'instance_weight_dropout':0.01,\n",
    "                   'init_cuda':False,\n",
    "                   'verbose':False}"
   ]
  },
  {
   "cell_type": "code",
   "execution_count": 13,
   "id": "a6279d7d-adba-4742-a85b-e2c47ab05f05",
   "metadata": {},
   "outputs": [],
   "source": [
    "network_list = [\n",
    "                (\"AttentionNetworkRegressor\", AttentionNetworkRegressor(**network_hparams)), \n",
    "                (\"TempAttentionNetworkRegressor\", TempAttentionNetworkRegressor(**network_hparams, tau=0.5)), \n",
    "                (\"GatedAttentionNetworkRegressor\", GatedAttentionNetworkRegressor(**network_hparams)), \n",
    "                (\"MultiHeadAttentionNetworkRegressor\", MultiHeadAttentionNetworkRegressor(**network_hparams, num_heads=10)), \n",
    "                (\"SelfAttentionNetworkRegressor\", SelfAttentionNetworkRegressor(**network_hparams)), \n",
    "                (\"HopfieldAttentionNetworkRegressor\", HopfieldAttentionNetworkRegressor(**network_hparams, beta=1)),\n",
    "                (\"DynamicPoolingNetworkRegressor\", DynamicPoolingNetworkRegressor(**network_hparams)),\n",
    "               ]"
   ]
  },
  {
   "cell_type": "code",
   "execution_count": 14,
   "id": "f0ff7530-749f-4b68-a4e8-44421c8b8eee",
   "metadata": {},
   "outputs": [
    {
     "name": "stdout",
     "output_type": "stream",
     "text": [
      "  [Model 1/7] Training model: 'AttentionNetworkRegressor'\n",
      "  [Model 2/7] Training model: 'TempAttentionNetworkRegressor'\n",
      "  [Model 3/7] Training model: 'GatedAttentionNetworkRegressor'\n",
      "  [Model 4/7] Training model: 'MultiHeadAttentionNetworkRegressor'\n",
      "  [Model 5/7] Training model: 'SelfAttentionNetworkRegressor'\n",
      "  [Model 6/7] Training model: 'HopfieldAttentionNetworkRegressor'\n",
      "  [Model 7/7] Training model: 'DynamicPoolingNetworkRegressor'\n",
      "\n",
      "All models completed.\n"
     ]
    }
   ],
   "source": [
    "bag_size = 5\n",
    "num_bags = 10000\n",
    "\n",
    "# create data\n",
    "data, targets = load_mnist()\n",
    "bags, labels, key = create_bags_sum(data, targets, bag_size=bag_size, num_bags=num_bags)\n",
    "x_train, x_test, y_train, y_test, key_train, key_test = train_test_split(bags, labels, key, random_state=42)\n",
    "\n",
    "# scale features\n",
    "scaler = BagMinMaxScaler()\n",
    "scaler.fit(x_train)\n",
    "x_train_scaled, x_test_scaled = scaler.transform(x_train), scaler.transform(x_test)\n",
    "\n",
    "# build models\n",
    "res_df = pd.DataFrame()\n",
    "for model_idx, (name, model) in enumerate(network_list, 1):\n",
    "    print(f\"  [Model {model_idx}/{len(network_list)}] Training model: '{name}'\")\n",
    "\n",
    "    # train model\n",
    "    model.to(\"cpu\")\n",
    "    model.fit(x_train_scaled, y_train)\n",
    "    # predict\n",
    "    y_pred = model.predict(x_test_scaled)\n",
    "    w_pred = model.get_instance_weights(x_test_scaled)\n",
    "    #\n",
    "    res_df.loc[name, \"PRED_R2\"] = r2_score(y_test, y_pred)\n",
    "    res_df.loc[name, \"KID_RANK\"] = kid_ranking_accuracy(key_test, w_pred)\n",
    "\n",
    "print(\"\\nAll models completed.\")"
   ]
  },
  {
   "cell_type": "code",
   "execution_count": 15,
   "id": "db7419e0-5556-4eb1-a2d5-e6c2cbad0d1c",
   "metadata": {},
   "outputs": [
    {
     "data": {
      "text/html": [
       "<div>\n",
       "<style scoped>\n",
       "    .dataframe tbody tr th:only-of-type {\n",
       "        vertical-align: middle;\n",
       "    }\n",
       "\n",
       "    .dataframe tbody tr th {\n",
       "        vertical-align: top;\n",
       "    }\n",
       "\n",
       "    .dataframe thead th {\n",
       "        text-align: right;\n",
       "    }\n",
       "</style>\n",
       "<table border=\"1\" class=\"dataframe\">\n",
       "  <thead>\n",
       "    <tr style=\"text-align: right;\">\n",
       "      <th></th>\n",
       "      <th>PRED_R2</th>\n",
       "      <th>KID_RANK</th>\n",
       "    </tr>\n",
       "  </thead>\n",
       "  <tbody>\n",
       "    <tr>\n",
       "      <th>AttentionNetworkRegressor</th>\n",
       "      <td>0.82</td>\n",
       "      <td>-0.14</td>\n",
       "    </tr>\n",
       "    <tr>\n",
       "      <th>TempAttentionNetworkRegressor</th>\n",
       "      <td>0.81</td>\n",
       "      <td>-0.09</td>\n",
       "    </tr>\n",
       "    <tr>\n",
       "      <th>GatedAttentionNetworkRegressor</th>\n",
       "      <td>0.85</td>\n",
       "      <td>-0.12</td>\n",
       "    </tr>\n",
       "    <tr>\n",
       "      <th>MultiHeadAttentionNetworkRegressor</th>\n",
       "      <td>0.87</td>\n",
       "      <td>-0.03</td>\n",
       "    </tr>\n",
       "    <tr>\n",
       "      <th>SelfAttentionNetworkRegressor</th>\n",
       "      <td>0.81</td>\n",
       "      <td>-0.55</td>\n",
       "    </tr>\n",
       "    <tr>\n",
       "      <th>HopfieldAttentionNetworkRegressor</th>\n",
       "      <td>-0.05</td>\n",
       "      <td>0.64</td>\n",
       "    </tr>\n",
       "    <tr>\n",
       "      <th>DynamicPoolingNetworkRegressor</th>\n",
       "      <td>0.77</td>\n",
       "      <td>0.86</td>\n",
       "    </tr>\n",
       "  </tbody>\n",
       "</table>\n",
       "</div>"
      ],
      "text/plain": [
       "                                    PRED_R2  KID_RANK\n",
       "AttentionNetworkRegressor              0.82     -0.14\n",
       "TempAttentionNetworkRegressor          0.81     -0.09\n",
       "GatedAttentionNetworkRegressor         0.85     -0.12\n",
       "MultiHeadAttentionNetworkRegressor     0.87     -0.03\n",
       "SelfAttentionNetworkRegressor          0.81     -0.55\n",
       "HopfieldAttentionNetworkRegressor     -0.05      0.64\n",
       "DynamicPoolingNetworkRegressor         0.77      0.86"
      ]
     },
     "execution_count": 15,
     "metadata": {},
     "output_type": "execute_result"
    }
   ],
   "source": [
    "res_df.round(2)"
   ]
  },
  {
   "cell_type": "code",
   "execution_count": null,
   "id": "9797dded-caeb-441a-a8b3-882d22d944d6",
   "metadata": {},
   "outputs": [],
   "source": []
  }
 ],
 "metadata": {
  "kernelspec": {
   "display_name": "qsarmil",
   "language": "python",
   "name": "qsarmil"
  },
  "language_info": {
   "codemirror_mode": {
    "name": "ipython",
    "version": 3
   },
   "file_extension": ".py",
   "mimetype": "text/x-python",
   "name": "python",
   "nbconvert_exporter": "python",
   "pygments_lexer": "ipython3",
   "version": "3.10.18"
  }
 },
 "nbformat": 4,
 "nbformat_minor": 5
}
